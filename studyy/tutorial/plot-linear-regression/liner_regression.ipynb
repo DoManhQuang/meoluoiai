{
  "nbformat": 4,
  "nbformat_minor": 0,
  "metadata": {
    "colab": {
      "provenance": []
    },
    "kernelspec": {
      "name": "python3",
      "display_name": "Python 3"
    },
    "language_info": {
      "name": "python"
    }
  },
  "cells": [
    {
      "cell_type": "code",
      "source": [
        "import matplotlib.pyplot as plt\n",
        "import numpy as np\n",
        "import imageio\n",
        "from sklearn.metrics import mean_squared_error\n",
        "from sklearn.datasets import make_regression\n",
        "from sklearn.linear_model import LinearRegression\n",
        "from sklearn.model_selection import train_test_split\n",
        "from tqdm import tqdm\n",
        "\n",
        "X, y = make_regression(n_samples=200, n_features=1, random_state=0, noise=15.0, bias=100.0)\n",
        "X_train, X_test, y_train, y_test = train_test_split(X, y, test_size=.4, random_state=10)\n",
        "\n",
        "# Since the data is shuffled by train_test_split, we sort the test data to plot it neatly\n",
        "y_test = y_test[X_test.flatten().argsort()]\n",
        "X_test = np.sort(X_test, axis=0)\n",
        "\n",
        "model = LinearRegression()\n",
        "images = []  # To store the images for the GIF\n",
        "\n",
        "# Training loop\n",
        "for i in tqdm(range(len(X_test))):\n",
        "    model.fit(X_test[:i+1], y_test[:i+1])  # Fit the model on a subset of the test data\n",
        "    y_pred = model.predict(X_test)  # Make predictions on all test data\n",
        "\n",
        "    # Plot the training and test data points, and the learned line\n",
        "    plt.scatter(X_train, y_train, c='g', s=20, label='Train')\n",
        "    plt.scatter(X_test[:i+1], y_test[:i+1], c='b', s=20, label='Test')\n",
        "    plt.plot(X_test, y_pred, c='r', linewidth=2, label='Predict')\n",
        "\n",
        "    # Calculate the Mean Squared Error\n",
        "    mse = mean_squared_error(y_test[:i+1], y_pred[:i+1])\n",
        "\n",
        "    plt.title(\"Mèo lười AI - Linear Regression\")\n",
        "    plt.xlabel(f\"Learning Progress - Iteration {i+1}\\n\")\n",
        "    # plt.ylabel(\"y\")\n",
        "    plt.legend()  # Display legend\n",
        "\n",
        "    # Add text \"AI MODEL\" in the right corner\n",
        "    plt.text(0.95, 0.05, f\"Mean Squared Error: {mse:.2f}\", fontsize=12, ha='right', va='bottom', transform=plt.gca().transAxes)\n",
        "\n",
        "    # Save the plot as an image\n",
        "    plt.savefig(f\"iteration_{i+1}.png\")\n",
        "    plt.close()  # Clear the plot for the next iteration\n",
        "\n",
        "    # Read the saved image and append to the list\n",
        "    image = imageio.imread(f\"iteration_{i+1}.png\")\n",
        "    images.append(image)\n",
        "\n",
        "# Save the list of images as a GIF\n",
        "imageio.mimsave(\"learning_process.gif\", images, duration=0.5)\n"
      ],
      "metadata": {
        "id": "OF3ouhVQjaHI"
      },
      "execution_count": null,
      "outputs": []
    },
    {
      "cell_type": "code",
      "source": [
        "import matplotlib.pyplot as plt\n",
        "import numpy as np\n",
        "import cv2\n",
        "from sklearn.metrics import mean_squared_error\n",
        "from sklearn.datasets import make_regression\n",
        "from sklearn.linear_model import LinearRegression\n",
        "from sklearn.model_selection import train_test_split\n",
        "\n",
        "X, y = make_regression(n_samples=200, n_features=1, random_state=0, noise=15.0, bias=100.0)\n",
        "X_train, X_test, y_train, y_test = train_test_split(X, y, test_size=.4, random_state=10)\n",
        "\n",
        "# Since the data is shuffled by train_test_split, we sort the test data to plot it neatly\n",
        "y_test = y_test[X_test.flatten().argsort()]\n",
        "X_test = np.sort(X_test, axis=0)\n",
        "\n",
        "model = LinearRegression()\n",
        "images = []  # To store the images for the video\n",
        "\n",
        "# Training loop\n",
        "for i in range(len(X_test)):\n",
        "    model.fit(X_test[:i+1], y_test[:i+1])  # Fit the model on a subset of the test data\n",
        "    y_pred = model.predict(X_test)  # Make predictions on all test data\n",
        "\n",
        "    # Plot the training and test data points, and the learned line\n",
        "    plt.scatter(X_train, y_train, c='g', s=20, label='Train')\n",
        "    plt.scatter(X_test[:i+1], y_test[:i+1], c='b', s=20, label='Test')\n",
        "    plt.plot(X_test, y_pred, c='r', linewidth=2, label='Predict')\n",
        "\n",
        "    # Calculate the Mean Squared Error\n",
        "    mse = mean_squared_error(y_test[:i+1], y_pred[:i+1])\n",
        "\n",
        "    plt.title(\"Mèo lười AI - Linear Regression\")\n",
        "    plt.xlabel(f\"Learning Progress - Iteration {i+1}\\n\")\n",
        "    # plt.ylabel(\"y\")\n",
        "    plt.legend()  # Display legend\n",
        "\n",
        "    # Add text \"AI MODEL\" in the right corner\n",
        "    plt.text(0.95, 0.05, f\"Mean Squared Error: {mse:.2f}\", fontsize=12, ha='right', va='bottom', transform=plt.gca().transAxes)\n",
        "\n",
        "    # Convert plot to image array\n",
        "    plt.tight_layout()\n",
        "    plt.savefig(f\"iteration_{i+1}.png\")\n",
        "    plt.close()  # Clear the plot for the next iteration\n",
        "\n",
        "    # Read the saved image and append to the list\n",
        "    image = cv2.imread(f\"iteration_{i+1}.png\")\n",
        "    images.append(image)\n",
        "\n",
        "# Save the sequence of images as a video\n",
        "height, width, _ = images[0].shape\n",
        "fourcc = cv2.VideoWriter_fourcc(*'mp4v')\n",
        "video = cv2.VideoWriter('learning_process.mp4', fourcc, 10, (width, height))\n",
        "\n",
        "for img in images:\n",
        "    video.write(img)\n",
        "\n",
        "video.release()"
      ],
      "metadata": {
        "id": "HHyoTC24h-O3"
      },
      "execution_count": 34,
      "outputs": []
    },
    {
      "cell_type": "code",
      "source": [
        "# Download the model (or any file) from Google Colab\n",
        "from google.colab import files\n",
        "files.download(\"/content/learning_process.mp4\")\n",
        "# files.download(\"/content/learning_process.gif\")"
      ],
      "metadata": {
        "colab": {
          "base_uri": "https://localhost:8080/",
          "height": 17
        },
        "id": "r-fOxZn9o4yo",
        "outputId": "a22b515e-6350-4d19-ee10-60ae208e925e"
      },
      "execution_count": 37,
      "outputs": [
        {
          "output_type": "display_data",
          "data": {
            "text/plain": [
              "<IPython.core.display.Javascript object>"
            ],
            "application/javascript": [
              "\n",
              "    async function download(id, filename, size) {\n",
              "      if (!google.colab.kernel.accessAllowed) {\n",
              "        return;\n",
              "      }\n",
              "      const div = document.createElement('div');\n",
              "      const label = document.createElement('label');\n",
              "      label.textContent = `Downloading \"${filename}\": `;\n",
              "      div.appendChild(label);\n",
              "      const progress = document.createElement('progress');\n",
              "      progress.max = size;\n",
              "      div.appendChild(progress);\n",
              "      document.body.appendChild(div);\n",
              "\n",
              "      const buffers = [];\n",
              "      let downloaded = 0;\n",
              "\n",
              "      const channel = await google.colab.kernel.comms.open(id);\n",
              "      // Send a message to notify the kernel that we're ready.\n",
              "      channel.send({})\n",
              "\n",
              "      for await (const message of channel.messages) {\n",
              "        // Send a message to notify the kernel that we're ready.\n",
              "        channel.send({})\n",
              "        if (message.buffers) {\n",
              "          for (const buffer of message.buffers) {\n",
              "            buffers.push(buffer);\n",
              "            downloaded += buffer.byteLength;\n",
              "            progress.value = downloaded;\n",
              "          }\n",
              "        }\n",
              "      }\n",
              "      const blob = new Blob(buffers, {type: 'application/binary'});\n",
              "      const a = document.createElement('a');\n",
              "      a.href = window.URL.createObjectURL(blob);\n",
              "      a.download = filename;\n",
              "      div.appendChild(a);\n",
              "      a.click();\n",
              "      div.remove();\n",
              "    }\n",
              "  "
            ]
          },
          "metadata": {}
        },
        {
          "output_type": "display_data",
          "data": {
            "text/plain": [
              "<IPython.core.display.Javascript object>"
            ],
            "application/javascript": [
              "download(\"download_aad57131-f6ca-4fca-a5fb-1344c8b10672\", \"learning_process.mp4\", 922709)"
            ]
          },
          "metadata": {}
        }
      ]
    }
  ]
}