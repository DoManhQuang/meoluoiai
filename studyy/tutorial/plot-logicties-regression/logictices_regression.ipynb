{
  "nbformat": 4,
  "nbformat_minor": 0,
  "metadata": {
    "colab": {
      "provenance": []
    },
    "kernelspec": {
      "name": "python3",
      "display_name": "Python 3"
    },
    "language_info": {
      "name": "python"
    }
  },
  "cells": [
    {
      "cell_type": "code",
      "source": [
        "import numpy as np\n",
        "import matplotlib.pyplot as plt\n",
        "import imageio\n",
        "from sklearn.datasets import make_classification\n",
        "from sklearn.linear_model import LogisticRegression\n",
        "from sklearn.model_selection import train_test_split\n",
        "\n",
        "# Generate a binary classification dataset\n",
        "X, y = make_classification(n_samples=500, n_features=2, n_informative=2, n_redundant=0,\n",
        "                           n_clusters_per_class=1, random_state=10)\n",
        "\n",
        "# Split the dataset into train and test sets\n",
        "X_train, X_test, y_train, y_test = train_test_split(X, y, test_size=0.4, random_state=42)\n",
        "\n",
        "# Initialize the logistic regression model\n",
        "model = LogisticRegression()\n",
        "\n",
        "# Create a list to store the images for the GIF\n",
        "images = []\n",
        "\n",
        "step = 10\n",
        "# Training loop\n",
        "for i in range(1, 50):\n",
        "    # Fit the model on the training data\n",
        "    model.fit(X_train[:i*step], y_train[:i*step])\n",
        "\n",
        "    # Make predictions on the entire feature space\n",
        "    x1_min, x1_max = X[:, 0].min() - 1, X[:, 0].max() + 1\n",
        "    x2_min, x2_max = X[:, 1].min() - 1, X[:, 1].max() + 1\n",
        "    xx1, xx2 = np.meshgrid(np.arange(x1_min, x1_max, 0.1),\n",
        "                           np.arange(x2_min, x2_max, 0.1))\n",
        "    Z = model.predict(np.c_[xx1.ravel(), xx2.ravel()])\n",
        "    Z = Z.reshape(xx1.shape)\n",
        "\n",
        "    # Compute the loss function (log loss) for the current iteration\n",
        "    loss = -np.mean(y_train[:i*step] * np.log(model.predict_proba(X_train[:i*step])[:, 1]) +\n",
        "                    (1 - y_train[:i*step]) * np.log(1 - model.predict_proba(X_train[:i*step])[:, 1]))\n",
        "\n",
        "    # Plot the training data and decision boundary\n",
        "    plt.contourf(xx1, xx2, Z, alpha=0.5)\n",
        "    plt.scatter(X_train[:, 0], X_train[:, 1], c=y_train, edgecolor='k')\n",
        "    plt.title(f\"LogisticRegression - Learning Process - Iteration {i*step}\")\n",
        "    plt.xlabel(\"Feature 1\")\n",
        "    plt.ylabel(\"Feature 2\")\n",
        "    plt.text(0.95, 0.05, f\"Loss: {loss:.3f}\", ha='right', va='center', transform=plt.gca().transAxes)\n",
        "    plt.text(0.05, 0.05, \"Mèo Lười AI\", ha='left', va='bottom', transform=plt.gca().transAxes)\n",
        "\n",
        "    # Save the plot as an image\n",
        "    plt.savefig(f\"iteration_{i}.png\")\n",
        "    plt.close()\n",
        "\n",
        "    # Read the saved image and append to the list\n",
        "    image = imageio.imread(f\"iteration_{i}.png\")\n",
        "    images.append(image)\n",
        "\n",
        "# Save the list of images as a GIF\n",
        "imageio.mimsave(\"learning_process.gif\", images, duration=0.5)\n"
      ],
      "metadata": {
        "id": "OF3ouhVQjaHI"
      },
      "execution_count": null,
      "outputs": []
    },
    {
      "cell_type": "code",
      "source": [
        "import numpy as np\n",
        "import matplotlib.pyplot as plt\n",
        "import imageio\n",
        "from sklearn.datasets import make_classification\n",
        "from sklearn.linear_model import LogisticRegression\n",
        "from sklearn.model_selection import train_test_split\n",
        "\n",
        "# Generate a binary classification dataset\n",
        "X, y = make_classification(n_samples=500, n_features=2, n_informative=2, n_redundant=0,\n",
        "                           n_clusters_per_class=1, random_state=10)\n",
        "\n",
        "# Split the dataset into train and test sets\n",
        "X_train, X_test, y_train, y_test = train_test_split(X, y, test_size=0.4, random_state=42)\n",
        "\n",
        "# Initialize the logistic regression model\n",
        "model = LogisticRegression()\n",
        "\n",
        "# Create a list to store the images for the GIF\n",
        "images = []\n",
        "\n",
        "step = 10\n",
        "# Training loop\n",
        "for i in range(1, 50):\n",
        "    # Fit the model on the training data\n",
        "    model.fit(X_train[:i*step], y_train[:i*step])\n",
        "\n",
        "    # Make predictions on the entire feature space\n",
        "    x1_min, x1_max = X[:, 0].min() - 1, X[:, 0].max() + 1\n",
        "    x2_min, x2_max = X[:, 1].min() - 1, X[:, 1].max() + 1\n",
        "    xx1, xx2 = np.meshgrid(np.arange(x1_min, x1_max, 0.1),\n",
        "                           np.arange(x2_min, x2_max, 0.1))\n",
        "    Z = model.predict(np.c_[xx1.ravel(), xx2.ravel()])\n",
        "    Z = Z.reshape(xx1.shape)\n",
        "\n",
        "    # Compute the loss function (log loss) for the current iteration\n",
        "    loss = -np.mean(y_train[:i*step] * np.log(model.predict_proba(X_train[:i*step])[:, 1]) +\n",
        "                    (1 - y_train[:i*step]) * np.log(1 - model.predict_proba(X_train[:i*step])[:, 1]))\n",
        "\n",
        "    # Plot the training data and decision boundary\n",
        "    plt.contourf(xx1, xx2, Z, alpha=0.5)\n",
        "    plt.scatter(X_train[:, 0], X_train[:, 1], c=y_train, edgecolor='k')\n",
        "    plt.title(f\"LogisticRegression - Learning Process - Iteration {i*step}\")\n",
        "    plt.xlabel(\"Feature 1\")\n",
        "    plt.ylabel(\"Feature 2\")\n",
        "    plt.text(0.95, 0.05, f\"Loss: {loss:.3f}\", ha='right', va='center', transform=plt.gca().transAxes)\n",
        "    plt.text(0.05, 0.05, \"Mèo Lười AI\", ha='left', va='bottom', transform=plt.gca().transAxes)\n",
        "\n",
        "    # Save the plot as an image\n",
        "    plt.savefig(f\"iteration_{i}.png\")\n",
        "    plt.close()\n",
        "\n",
        "    # Read the saved image and append to the list\n",
        "    image = imageio.imread(f\"iteration_{i}.png\")\n",
        "    images.append(image)\n",
        "\n",
        "# Save the list of images as a video\n",
        "imageio.mimsave(\"learning_process.mp4\", images, fps=2, macro_block_size=None, codec=\"libx264\", quality=10)\n"
      ],
      "metadata": {
        "id": "3k-zVLNDyeAC"
      },
      "execution_count": null,
      "outputs": []
    },
    {
      "cell_type": "code",
      "source": [
        "# Download the model (or any file) from Google Colab\n",
        "from google.colab import files\n",
        "files.download(\"/content/learning_process.mp4\")\n",
        "files.download(\"/content/learning_process.gif\")"
      ],
      "metadata": {
        "colab": {
          "base_uri": "https://localhost:8080/",
          "height": 17
        },
        "id": "r-fOxZn9o4yo",
        "outputId": "a22b515e-6350-4d19-ee10-60ae208e925e"
      },
      "execution_count": null,
      "outputs": [
        {
          "output_type": "display_data",
          "data": {
            "text/plain": [
              "<IPython.core.display.Javascript object>"
            ],
            "application/javascript": [
              "\n",
              "    async function download(id, filename, size) {\n",
              "      if (!google.colab.kernel.accessAllowed) {\n",
              "        return;\n",
              "      }\n",
              "      const div = document.createElement('div');\n",
              "      const label = document.createElement('label');\n",
              "      label.textContent = `Downloading \"${filename}\": `;\n",
              "      div.appendChild(label);\n",
              "      const progress = document.createElement('progress');\n",
              "      progress.max = size;\n",
              "      div.appendChild(progress);\n",
              "      document.body.appendChild(div);\n",
              "\n",
              "      const buffers = [];\n",
              "      let downloaded = 0;\n",
              "\n",
              "      const channel = await google.colab.kernel.comms.open(id);\n",
              "      // Send a message to notify the kernel that we're ready.\n",
              "      channel.send({})\n",
              "\n",
              "      for await (const message of channel.messages) {\n",
              "        // Send a message to notify the kernel that we're ready.\n",
              "        channel.send({})\n",
              "        if (message.buffers) {\n",
              "          for (const buffer of message.buffers) {\n",
              "            buffers.push(buffer);\n",
              "            downloaded += buffer.byteLength;\n",
              "            progress.value = downloaded;\n",
              "          }\n",
              "        }\n",
              "      }\n",
              "      const blob = new Blob(buffers, {type: 'application/binary'});\n",
              "      const a = document.createElement('a');\n",
              "      a.href = window.URL.createObjectURL(blob);\n",
              "      a.download = filename;\n",
              "      div.appendChild(a);\n",
              "      a.click();\n",
              "      div.remove();\n",
              "    }\n",
              "  "
            ]
          },
          "metadata": {}
        },
        {
          "output_type": "display_data",
          "data": {
            "text/plain": [
              "<IPython.core.display.Javascript object>"
            ],
            "application/javascript": [
              "download(\"download_aad57131-f6ca-4fca-a5fb-1344c8b10672\", \"learning_process.mp4\", 922709)"
            ]
          },
          "metadata": {}
        }
      ]
    }
  ]
}